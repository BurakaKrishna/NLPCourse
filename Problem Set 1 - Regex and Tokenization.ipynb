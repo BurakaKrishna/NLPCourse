{
 "cells": [
  {
   "cell_type": "markdown",
   "metadata": {},
   "source": [
    "# Problem Set 1 - Regex and Tokenization\n",
    "One of the difficulties of the German langiage is the phenomena of merging together many words into one. To a newcomer to the language, this is particularly obvious and painful with numbers. For example \n",
    "* fünfhundretfünfzehn\n",
    "* achthundretzehn'\n",
    "* dreitausendvierhundretachtzehn\n",
    "* dreitausendneunhundretneunundsiebzig\n",
    "* eintausendneunhundretzweiundneunzig\n",
    "\n",
    "If we wanted to write an algorithm that took a number such as *eintausendneunhundretzweiundneunzig* and converted into 8992 we might want to start by breaking that word up into it's constituents. \n",
    "This task is an extreme example of one of the fundamental tasks in NLP, Tokenization - the act of breaking up text into it's \"atomic\" elements \n",
    "\n",
    "## What we'll do \n",
    "\n",
    "The excercises in this notebook will walk you through some building block techniques in NLP, namely string searching and Regular Expressions. We'll use both techniques to try and break up the words into the most relevent tokens\n",
    "## Prerequites\n",
    "Start by working through the amazing regex tutorial at [RegexOne](https://regexone.com/)\n",
    "\n",
    "## Getting Data\n",
    "We've conveneiently provided a utility that will generate data for you. Run the following code to get a dictionary that maps numerical values to their verbal representation:\n",
    "**code**\n",
    "```python\n",
    "from pprint import pprint\n",
    "from utils.numtoWord import createNum2WordDict\n",
    "d =createNum2WordDict(100,10000)\n",
    "print(d)\n",
    "```\n",
    "**output**\n",
    "```\n",
    "{2360: 'zweitausenddreihundretundsechzig',\n",
    " 2518: 'zweitausendfünfhundretachtzehn',\n",
    " 4080: 'viertausendundachtzig',\n",
    " 4808: 'viertausendachthundretacht',\n",
    " 5785: 'fünftausendsiebenhundretfünfundachtzig',\n",
    " 6002: 'sechstausendzwei',\n",
    " 6289: 'sechstausendzweihundretneunundachtzig',\n",
    " 7157: 'siebentausendeinhundretsiebenundfünfzig',\n",
    " 8930: 'achttausendneunhundretunddreiβig',\n",
    " 9455: 'neuntausendvierhundretfünfundfünfzig'}\n",
    "```\n",
    "\n",
    "You want to reach soemthing that maps zweitausenddreihundretundsechzig to\n",
    "*zweitausend dreihundret und sechzig*\n",
    "\n"
   ]
  },
  {
   "cell_type": "code",
   "execution_count": 18,
   "metadata": {},
   "outputs": [
    {
     "name": "stdout",
     "output_type": "stream",
     "text": [
      "{2256795: 'zwei Million '\n",
      "          'zweihundretsechsundfünfzigtausendsiebenhundretfünfundneunzig',\n",
      " 8676914: 'acht Million sechshundretsechsundsiebzigtausendneunhundretvierzehn',\n",
      " 14521415: 'vierzehn Million '\n",
      "           'fünfhundreteinundzwanzigtausendvierhundretfünfzehn',\n",
      " 29692583: 'neunundzwanzig Million '\n",
      "           'sechshundretzweiundneunzigtausendfünfhundretdreiundachtzig',\n",
      " 31690331: 'einunddreiβig Million '\n",
      "           'sechshundretundneunzigtausenddreihundreteinunddreiβig',\n",
      " 50723793: 'undfünfzig Million '\n",
      "           'siebenhundretdreiundzwanzigtausendsiebenhundretdreiundneunzig',\n",
      " 55623689: 'fünfundfünfzig Million '\n",
      "           'sechshundretdreiundzwanzigtausendsechshundretneunundachtzig',\n",
      " 74613093: 'vierundsiebzig Million sechshundretdreizehntausenddreiundneunzig',\n",
      " 79116293: 'neunundsiebzig Million '\n",
      "           'einhundretsechszehntausendzweihundretdreiundneunzig',\n",
      " 89692350: 'neunundachtzig Million '\n",
      "           'sechshundretzweiundneunzigtausenddreihundretundfünfzig'}\n"
     ]
    }
   ],
   "source": [
    "#Load some data\n",
    "from pprint import pprint\n",
    "from utils.numtoWord import createNum2WordDict\n",
    "d =createNum2WordDict(size=10,high=100000000) # Get 10 random numbers between 0 and 10,000\n",
    "pprint(d)"
   ]
  },
  {
   "cell_type": "markdown",
   "metadata": {},
   "source": [
    "## Excercise 1 - Naive Pattern Matching\n",
    "Sample 1000 numbers betwenn 1,100. Write a python function that will list all of the \"number-names\" (1-9) that appear"
   ]
  },
  {
   "cell_type": "markdown",
   "metadata": {},
   "source": [
    "## Excercise 2 - Smarter Pattern Matching\n",
    "Install the [FlashText](https://github.com/vi3k6i5/flashtext) library or [Py-Aho-Corasaik](https://github.com/JanFan/py-aho-corasick) and repeat excercise 1 with it"
   ]
  },
  {
   "cell_type": "markdown",
   "metadata": {},
   "source": [
    "## Excercise 3 - Regular Expressions\n",
    "Sample number between 1 and 1,000,000,000\n",
    "Use the python re module and the re.split function to split the numbers into millions, thousands hundrends and tens\n",
    "For example\n",
    "```\n",
    "vierzehnmillionfünfhundreteinundzwanzigtausendvierhundretfünfzehn\n",
    "```\n",
    "Should map to\n",
    "```\n",
    "vierzehnmillion\n",
    "fünfhundreteinundzwanzigtausend\n",
    "vierhundret\n",
    "fünfzehn\n",
    "```"
   ]
  },
  {
   "cell_type": "markdown",
   "metadata": {},
   "source": [
    "## Excercise 4 - Regular Expression classifier\n",
    "We can do clever things with regular expressions. In this case we'll use regular expressions to decide if a given number is even or odd. Write a function, powered by a single regular expression, that receives a number (in word form) and returns 1 if it is even and 0 if it is odd. \n",
    "For example\n",
    "```\n",
    "f(\"vierzehnmillion\") =1\n",
    "f(\"sechshundretdreiundzwanzigtausendsechshundretneunundachtzig\") =0\n",
    "```"
   ]
  },
  {
   "cell_type": "markdown",
   "metadata": {},
   "source": [
    "# Excercise 5 - Named Capture Groups\n",
    "Use pythons named capture groups ([Explanation](https://www.regular-expressions.info/named.html)) ([Reference](https://docs.python.org/3/library/re.html#regular-expression-syntax)) To split a number into it's constituent parts as a dictionary. \n",
    "Use named capture groups, and the **groupdict** function to get a dictionary. For example\n",
    "\n",
    "```python\n",
    "    match = yourRegex.search(\"zweihundretsechsundfünfzigtausendsiebenhundretfünfundneunzig\")\n",
    "    match.groupdict()\n",
    "    >\n",
    "        {\n",
    "            \"thousands\" : \"zweihundretsechsundfünfzig\",\n",
    "            \"hundreds\" : \"sieben\",\n",
    "            \"tens\" :\"neunzig\",\n",
    "            \"ones\" : \"fünf\"\n",
    "        }\n",
    "    \n",
    "```\n"
   ]
  },
  {
   "cell_type": "code",
   "execution_count": null,
   "metadata": {},
   "outputs": [],
   "source": []
  }
 ],
 "metadata": {
  "kernelspec": {
   "display_name": "Python 3",
   "language": "python",
   "name": "python3"
  },
  "language_info": {
   "codemirror_mode": {
    "name": "ipython",
    "version": 3
   },
   "file_extension": ".py",
   "mimetype": "text/x-python",
   "name": "python",
   "nbconvert_exporter": "python",
   "pygments_lexer": "ipython3",
   "version": "3.5.2"
  }
 },
 "nbformat": 4,
 "nbformat_minor": 2
}
